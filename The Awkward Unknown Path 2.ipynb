{
 "cells": [
  {
   "cell_type": "markdown",
   "metadata": {},
   "source": [
    "# THE AWKWARD UNKNOWN #"
   ]
  },
  {
   "cell_type": "code",
   "execution_count": 1,
   "metadata": {},
   "outputs": [
    {
     "name": "stdout",
     "output_type": "stream",
     "text": [
      "The awkward is not unknown but, the unknown is awkward.\n",
      "-------------------------------------------------------------------------------------------------------------------\n",
      "Welcome to your awkward unknown, where every choice you make and every action you take, dictates your future and most \n",
      "importantly, whether you survive or die trying.\n",
      "-------------------------------------------------------------------------------------------------------------------\n"
     ]
    }
   ],
   "source": [
    "#the starting prompt of the game\n",
    "print(\"The awkward is not unknown but, the unknown is awkward.\")\n",
    "print(\"-------------------------------------------------------------------------------------------------------------------\")\n",
    "print(\"Welcome to your awkward unknown, where every choice you make and every action you take, dictates your future and most \\nimportantly, whether you survive or die trying.\")\n",
    "print(\"-------------------------------------------------------------------------------------------------------------------\")"
   ]
  },
  {
   "cell_type": "code",
   "execution_count": null,
   "metadata": {},
   "outputs": [],
   "source": [
    "def option_right():\n",
    "    while True:\n",
    "        answer = input(\"Would you like to start simulation? (YES/NO)\").lower()\n",
    "        if answer == \"yes\":\n",
    "            print(\"Good luck. Hehe...\")\n",
    "\n",
    "        elif answer == \"no\":\n",
    "            print(\"Too bad. Hehe...\")\n",
    "\n",
    "        else:\n",
    "            print(\"You think this is a joke! Running Simultation...\")\n",
    "            print(\"-----\")\n",
    "            print(\"'Wake up!' You wake up with a jolt and look around confused. Charlie hovers above you worried, 'C'mon you slept through all of \\nclass. Let's go to lunch.'\")\n",
    "            print(\"-----\")\n",
    "            answer = input(\"Do you follow Charlie to lunch? (YES/NO)\").lower()\n",
    "            if answer == \"yes\":\n",
    "                print(\"-----\")\n",
    "                print(\"You look up, still bewildered, and follow Charlie to the lunch room. When you walk into the lunch room, you notice a boy \\nsitting alone near the back of the cafeteria. You ask Charlie about who that is and fear reveals itself on his face. In a shaky \\nvoice he replies, 'That kid is a freak. Don't talk to him unless you want trouble.' Charlie hurriers ahead to Lilly, Theo, \\nPhil, and Katey, the rest of your friends. However, something begins to bother you as you keep looking at the boy.\")\n",
    "                print(\"-----\")\n",
    "                answer = input(\"Do you walk over and talk to the boy? (YES/NO)\").lower()\n",
    "                if answer == \"yes\":\n",
    "                    print(\"-----\")\n",
    "                    print(\"You walk over to the boy and wonder why Charlie had called him a freak. You reach the boy and introduce yourself, only to be \\nmet with a cold gaze. You maintain your demeanor and sit down across from him. He looks away and mumbles Nigel, when you ask \\nfor his name. You hear '3795' and glance at Nigel to see if he said it, but he didn't move his mouth. So who said it... 3795. \\nYou dismiss the numbers and say 'Nice to meet you, Nigel' with a grin and extend your hand as if to shake his. He extends his \\nhand and you notice cuts and bruises on his arm. He pulls his sleeve over his arm and looks away. You remember what Charlie \\nsaid and begin to worry.\")\n",
    "                    print(\"-----\")\n",
    "                    answer = input(\"Do you leave Nigel alone? (YES/NO)\").lower()\n",
    "                    if answer == \"yes\":\n",
    "                        print(\"-----\")\n",
    "                        print(\"\")\n",
    "                        print(\"-----\")\n",
    "                    if answer == \"no\":\n",
    "                        print(\"-----\") \n",
    "                        print(\"You stay where you are and ask if he has any friends. Nigel shakes his head and you dismiss Charlie's warning. 'You can be my \\nfriend,' you propose and Nigel looks up and shakes his head. Nigel whisperes, 'It's not safe here. It's not safe anywhere.' \\nRemebering what Charlie said you get up and walk over to your friends. You look back at Nigel and find him gone. 'So... \\nwhat was that?' Lilly askes. The whole group looks at you for an answer.\")\n",
    "                        print(\"-----\")\n",
    "                        answer = input(\"Do you tell them what happened? (YES/NO)\").lower()\n",
    "                        if answer == \"yes\":\n",
    "                            print(\"-----\")\n",
    "                            print(\"\")\n",
    "                            print(\"-----\")\n",
    "                        if answer == \"no\":\n",
    "                            print(\"-----\")\n",
    "                            print(\"You tell them that nothing is wrong and that they should just eat their lunch. With worried looks still on their face, the \\ngroup decides to just start eating... except for Charlie. 'Stay away from that kid,' Charlie mumbles. Confused, you question \\nCharlie about who that kid is and what he knows. Charlie opens his mouth to say something but the ringing bell signaling a \\nfire drill went off. Everyone starts rushing to the exit. Charlie gets up shaking his head and follows the crowd.\")\n",
    "                            print(\"-----\")\n",
    "                            answer = input(\"Do you follow Charlie to ask him what he was going to say? (YES/NO)\").lower()\n",
    "                            if answer == \"yes\":\n",
    "                                print(\"-----\")\n",
    "                                print(\"You push past other students and see Charlie walk in the opposite direction of the exit. You see him look back suspiciously \\nbefore darting down another hallway. You follow him down a hall and see him run into a broom closet.\")\n",
    "                                print(\"-----\")\n",
    "                                answer = input(\"Do you follow him into the broom closet? (YES/NO)\").lower()\n",
    "                                if answer == \"yes\":\n",
    "                                    print(\"-----\")\n",
    "                                    print(\"You open the creaky closet door and walk into the dimly lit closet. It smells of broom and cleaning supplies but, there is no \\nsign of Charlie. You take another step inside and the door slams shut behind you. You fiddle with the door knob and see it's \\nlocked. You feel a heavy coating of fear fall upon you.\")\n",
    "                                    print(\"-----\")\n",
    "                                    answer = input(\"Do you call for help? (YES/NO)\").lower()\n",
    "                                    if answer == \"yes\":\n",
    "                                        print(\"-----\")\n",
    "                                        print(\"You begin to bang on the door and call for help. You try running into the door but, nothing helps. You hear a whisper say \\n'You can be my friend... forever.' You look around and see nobody in the room. A shiver runs up your spine as you sense a dark \\nfigure behind you. You panick and try to plan what to do next but, its too late. You feel a squeeze around you neck tighten \\nuntil you can breath anymore. You try to gasp for air as you claw at your neck and instead of feeling something choking you, \\nyou feel nothing.... The dim closet light begins to fade and you feel yourself losing consiousness. You try to concentrate \\non the light and gasp for air one last time.\")\n",
    "                                        print(\"-----\")\n",
    "                                        print(\"You died.\")\n",
    "                                        return option_right()\n",
    "                                    if answer == \"no\":\n",
    "                                        print(\"-----\")\n",
    "                                        print(\"-----\")\n",
    "                                        print(\"-----\")\n",
    "                                if answer == \"no\":\n",
    "                                    print(\"-----\")\n",
    "                                    print(\"\")\n",
    "                                    print(\"-----\")\n",
    "                            if answer == \"no\":\n",
    "                                print(\"-----\")\n",
    "                                print(\"\")\n",
    "                                print(\"-----\")\n",
    "                if answer == \"no\":\n",
    "                    print(\"-----\")\n",
    "                    print(\"\")\n",
    "                    print(\"-----\")\n",
    "            if answer == \"no\":\n",
    "                print(\"-----\")\n",
    "                print(\"\")\n",
    "                print(\"-----\")\n",
    "        break\n",
    "option_right()"
   ]
  },
  {
   "cell_type": "code",
   "execution_count": null,
   "metadata": {},
   "outputs": [],
   "source": []
  }
 ],
 "metadata": {
  "kernelspec": {
   "display_name": "Python 3",
   "language": "python",
   "name": "python3"
  },
  "language_info": {
   "codemirror_mode": {
    "name": "ipython",
    "version": 3
   },
   "file_extension": ".py",
   "mimetype": "text/x-python",
   "name": "python",
   "nbconvert_exporter": "python",
   "pygments_lexer": "ipython3",
   "version": "3.6.5"
  }
 },
 "nbformat": 4,
 "nbformat_minor": 2
}
