{
 "cells": [
  {
   "cell_type": "code",
   "execution_count": 1,
   "metadata": {},
   "outputs": [
    {
     "name": "stdout",
     "output_type": "stream",
     "text": [
      "Would you like to start simulation? (YES/NO)YES\n",
      "Good luck. Hehe...\n"
     ]
    }
   ],
   "source": [
    "#the starting prompt of the game\n",
    "answer = input(\"Would you like to start simulation? (YES/NO)\")\n",
    "\n",
    "while True:\n",
    "    if answer.lower() == \"yes\":\n",
    "        print(\"Good luck. Hehe...\")\n",
    "    elif answer.lower() == \"no\":\n",
    "        print(\"Too bad. Hehe...\")\n",
    "    else:\n",
    "        print(\"You think this is a joke! Running Simultation...\")\n",
    "    break"
   ]
  },
  {
   "cell_type": "code",
   "execution_count": null,
   "metadata": {},
   "outputs": [],
   "source": []
  }
 ],
 "metadata": {
  "kernelspec": {
   "display_name": "Python 3",
   "language": "python",
   "name": "python3"
  },
  "language_info": {
   "codemirror_mode": {
    "name": "ipython",
    "version": 3
   },
   "file_extension": ".py",
   "mimetype": "text/x-python",
   "name": "python",
   "nbconvert_exporter": "python",
   "pygments_lexer": "ipython3",
   "version": "3.6.5"
  }
 },
 "nbformat": 4,
 "nbformat_minor": 2
}
