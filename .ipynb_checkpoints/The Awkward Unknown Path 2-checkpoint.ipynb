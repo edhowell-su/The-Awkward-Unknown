{
 "cells": [
  {
   "cell_type": "markdown",
   "metadata": {},
   "source": [
    "# THE AWKWARD UNKNOWN #"
   ]
  },
  {
   "cell_type": "code",
   "execution_count": 1,
   "metadata": {},
   "outputs": [
    {
     "name": "stdout",
     "output_type": "stream",
     "text": [
      "The awkward is not unknown but, the unknown is awkward.\n",
      "-------------------------------------------------------------------------------------------------------------------\n",
      "Welcome to your awkward unknown, where every choice you make and every action you take, dictates your future and most \n",
      "importantly, whether you survive or die trying.\n",
      "-------------------------------------------------------------------------------------------------------------------\n"
     ]
    }
   ],
   "source": [
    "#the starting prompt of the game\n",
    "print(\"The awkward is not unknown but, the unknown is awkward.\")\n",
    "print(\"-------------------------------------------------------------------------------------------------------------------\")\n",
    "print(\"Welcome to your awkward unknown, where every choice you make and every action you take, dictates your future and most \\nimportantly, whether you survive or die trying.\")\n",
    "print(\"-------------------------------------------------------------------------------------------------------------------\")"
   ]
  },
  {
   "cell_type": "code",
   "execution_count": null,
   "metadata": {
    "scrolled": true
   },
   "outputs": [],
   "source": [
    "def right():\n",
    "    while True:\n",
    "        answer = input(\"Would you like to start simulation? (YES/NO)\").lower()\n",
    "        if answer == \"yes\":\n",
    "            print(\"Good luck. Hehe...\")\n",
    "\n",
    "        elif answer == \"no\":\n",
    "            print(\"Too bad. Hehe...\")\n",
    "\n",
    "        else:\n",
    "            print(\"You think this is a joke! Running Simultation...\")\n",
    "            print(\"-----\")\n",
    "            print(\"'Wake up!' You wake up with a jolt and look around confused. Mike hovers above you worried, 'C'mon you slept through all of \\nclass. Let's go to lunch.'\")\n",
    "            print(\"-----\")\n",
    "            answer = input(\"Do you follow Mike to lunch? (YES/NO)\").lower()\n",
    "            if answer == \"yes\":\n",
    "                print(\"-----\")\n",
    "                print(\"You look up, still bewildered, and follow Mike to the lunch room. When you walk into the lunch room, you notice a boy sitting \\nalone near the back of the cafeteria. You ask Mike about who that is and fear reveals itself on his face. In a shaky voice he \\nreplies, 'That kid is a freak. Don't talk to him unless you want trouble.' Mike hurriers ahead to Lilly, Theo, Phil, and \\nKatey, the rest of your friends. However, something begins to bother you as you keep looking at the boy.\")\n",
    "                print(\"-----\")\n",
    "                answer = input(\"Do you walk over and talk to the boy? (YES/NO)\").lower()\n",
    "                if answer == \"yes\":\n",
    "                    print(\"-----\")\n",
    "                    print(\"You walk over to the boy and wonder why Mike had called him a freak. You reach the boy and introduce yourself, only to be met \\nwith a cold gaze. You maintain your demeanor and sit down across from him. He looks away and mumbles Charlie, when you \\nask for his name. You say 'Nice to meet you, Charlie.' with a grin and extend your hand as if to shake his. He extends his \\nhand and you notice cuts and bruises on his arm. He pulls his sleeve over his arm and looks away. You remember what Mike said \\nand begin to worry.\")\n",
    "                    print(\"-----\")\n",
    "                    answer = input(\"Do you leave Charlie alone? (YES/NO)\").lower()\n",
    "                    if answer == \"yes\":\n",
    "                        print(\"-----\")\n",
    "                        print(\"\")\n",
    "                        print(\"-----\")\n",
    "                    if answer == \"no\":\n",
    "                        print(\"-----\") \n",
    "                        print(\"You stay where you are and ask if he has any friends. Charlie shakes his head and you dismiss Mike's warning. 'You can be my friend,' you propose and Charlie looks up and nods with a grin. Upon making a new friend, you gleefully walk back to your \\nfriends. 'What was that?' Katey sneers. You look at her with a perplexed look but, you see that the whole group is looking \\nat you waiting for an answer.\")\n",
    "                        print(\"-----\")\n",
    "                        answer = input(\"Do you tell them what happened? (YES/NO)\").lower()\n",
    "                        if answer == \"yes\":\n",
    "                            print(\"-----\")\n",
    "                            print(\"\")\n",
    "                            print(\"-----\")\n",
    "                        if answer == \"no\":\n",
    "                            print(\"-----\")\n",
    "                            print(\"You tell them that nothing is wrong and that they should just eat their lunch. With worried looks on their face they just start to eat... except for Mike. 'Stay away from that kid,' Mike mumbles. Suddenly filled with anger and confusion, you question Mike about why he keeps 'warning' you. Mike opens his mouth about to say something when suddenly \")\n",
    "                            print(\"-----\")\n",
    "                if answer == \"no\":\n",
    "                    print(\"-----\")\n",
    "                    print(\"\")\n",
    "                    print(\"-----\")\n",
    "            if answer == \"no\":\n",
    "                print(\"-----\")\n",
    "                print(\"\")\n",
    "                print(\"-----\")\n",
    "        break\n",
    "right()"
   ]
  },
  {
   "cell_type": "code",
   "execution_count": null,
   "metadata": {},
   "outputs": [],
   "source": []
  }
 ],
 "metadata": {
  "kernelspec": {
   "display_name": "Python 3",
   "language": "python",
   "name": "python3"
  },
  "language_info": {
   "codemirror_mode": {
    "name": "ipython",
    "version": 3
   },
   "file_extension": ".py",
   "mimetype": "text/x-python",
   "name": "python",
   "nbconvert_exporter": "python",
   "pygments_lexer": "ipython3",
   "version": "3.6.5"
  }
 },
 "nbformat": 4,
 "nbformat_minor": 2
}
