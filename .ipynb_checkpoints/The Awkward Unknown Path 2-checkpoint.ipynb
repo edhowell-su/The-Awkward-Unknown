{
 "cells": [
  {
   "cell_type": "markdown",
   "metadata": {},
   "source": [
    "# THE AWKWARD UNKNOWN #"
   ]
  },
  {
   "cell_type": "code",
   "execution_count": 1,
   "metadata": {},
   "outputs": [
    {
     "name": "stdout",
     "output_type": "stream",
     "text": [
      "The awkward is not unknown but, the unknown is awkward.\n",
      "-------------------------------------------------------------------------------------------------------------------\n",
      "Welcome to your awkward unknown, where every choice you make and every action you take, dictates your future and most \n",
      "importantly, whether you survive or die trying.\n",
      "-------------------------------------------------------------------------------------------------------------------\n"
     ]
    }
   ],
   "source": [
    "#the starting prompt of the game\n",
    "print(\"The awkward is not unknown but, the unknown is awkward.\")\n",
    "print(\"-------------------------------------------------------------------------------------------------------------------\")\n",
    "print(\"Welcome to your awkward unknown, where every choice you make and every action you take, dictates your future and most \\nimportantly, whether you survive or die trying.\")\n",
    "print(\"-------------------------------------------------------------------------------------------------------------------\")"
   ]
  },
  {
   "cell_type": "code",
   "execution_count": null,
   "metadata": {},
   "outputs": [
    {
     "name": "stdout",
     "output_type": "stream",
     "text": [
      "What is you name? i\n",
      "Would you like to start simulation? (YES/NO)yes\n",
      "Good luck. Hehe...\n",
      "-----\n",
      "\n",
      "-----\n"
     ]
    }
   ],
   "source": [
    "def right():\n",
    "    while True:\n",
    "        character = input(\"What is your name? \")\n",
    "        answer = input(\"Would you like to start simulation? (YES/NO)\") #this questions dictates which story you're placed in\n",
    "        if answer.lower() == \"yes\":\n",
    "            print(\"Good luck. Hehe...\")\n",
    "            print(\"-----\")\n",
    "            print(\"\")\n",
    "            print(\"-----\")\n",
    "            choice_1 = input(\"\")\n",
    "            if choice_1.lower() == \"YES\":\n",
    "                print(\"\")\n",
    "            if choice_1.lower() == \"NO\":\n",
    "        elif answer.lower() == \"no\":\n",
    "            print(\"Too bad. Hehe...\")\n",
    "            print(\"-----\")\n",
    "            print(\"\")\n",
    "            print(\"-----\")\n",
    "            choice_2 = input(\"\")\n",
    "            if choice_2.lower() == \"YES\":\n",
    "                print(\"\")\n",
    "            if choice_2.lower() == \"NO\":\n",
    "        else:\n",
    "            print(\"You think this is a joke! Running Simultation...\")\n",
    "            print(\"-----\")\n",
    "            print(\"\")\n",
    "            print(\"-----\")\n",
    "            choice_3 = input(\"\")\n",
    "            if choice_3.lower() == \"YES\":\n",
    "                print(\"\")\n",
    "            if choice_3.lower() == \"NO\":\n",
    "        break\n",
    "right()"
   ]
  },
  {
   "cell_type": "code",
   "execution_count": null,
   "metadata": {
    "collapsed": true
   },
   "outputs": [],
   "source": []
  }
 ],
 "metadata": {
  "kernelspec": {
   "display_name": "Python 3",
   "language": "python",
   "name": "python3"
  },
  "language_info": {
   "codemirror_mode": {
    "name": "ipython",
    "version": 3
   },
   "file_extension": ".py",
   "mimetype": "text/x-python",
   "name": "python",
   "nbconvert_exporter": "python",
   "pygments_lexer": "ipython3",
   "version": "3.6.5"
  }
 },
 "nbformat": 4,
 "nbformat_minor": 2
}
